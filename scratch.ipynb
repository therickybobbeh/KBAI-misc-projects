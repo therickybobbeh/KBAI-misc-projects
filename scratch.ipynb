{
 "cells": [
  {
   "metadata": {},
   "cell_type": "markdown",
   "source": "### numpy scraps",
   "id": "a2ca6cad5f989417"
  },
  {
   "metadata": {
    "ExecuteTime": {
     "end_time": "2024-09-19T21:23:37.037478Z",
     "start_time": "2024-09-19T21:23:36.621222Z"
    }
   },
   "cell_type": "code",
   "source": "import numpy as np",
   "id": "518af34aed4d53a6",
   "outputs": [],
   "execution_count": 2
  },
  {
   "metadata": {
    "collapsed": true,
    "ExecuteTime": {
     "end_time": "2024-09-12T01:28:38.044358Z",
     "start_time": "2024-09-12T01:28:38.040244Z"
    }
   },
   "cell_type": "code",
   "source": "matrix = np.array([[1,2,3,],[4,5,6],[7,8,9]])",
   "id": "initial_id",
   "outputs": [],
   "execution_count": 4
  },
  {
   "metadata": {
    "ExecuteTime": {
     "end_time": "2024-09-12T01:31:04.772782Z",
     "start_time": "2024-09-12T01:31:04.766290Z"
    }
   },
   "cell_type": "code",
   "source": "matrix = np.arange(0,9).reshape(3,3)",
   "id": "a1ad6a736780ea2f",
   "outputs": [],
   "execution_count": 7
  },
  {
   "metadata": {
    "ExecuteTime": {
     "end_time": "2024-09-12T01:31:15.505951Z",
     "start_time": "2024-09-12T01:31:15.486850Z"
    }
   },
   "cell_type": "code",
   "source": "print(matrix)",
   "id": "98b30f32552d2e83",
   "outputs": [
    {
     "name": "stdout",
     "output_type": "stream",
     "text": [
      "[[0 1 2]\n",
      " [3 4 5]\n",
      " [6 7 8]]\n"
     ]
    }
   ],
   "execution_count": 8
  },
  {
   "metadata": {
    "ExecuteTime": {
     "end_time": "2024-09-12T01:35:06.857154Z",
     "start_time": "2024-09-12T01:35:06.850310Z"
    }
   },
   "cell_type": "code",
   "source": [
    "# Create the following rank 2 array with shape (3, 4)\n",
    "# [[ 1  2  3  4]\n",
    "#  [ 5  6  7  8]\n",
    "#  [ 9 10 11 12]]\n",
    "a = np.array([[1,2,3,4], [5,6,7,8], [9,10,11,12]])\n",
    "\n",
    "# Use slicing to pull out the subarray consisting of the first 2 rows\n",
    "# and columns 1 and 2; b is the following array of shape (2, 2):\n",
    "# [[2 3]\n",
    "#  [6 7]]\n",
    "b = a[:2, 1:3]\n",
    "\n",
    "# A slice of an array is a view into the same data, so modifying it\n",
    "# will modify the original array.\n",
    "print(a[0, 1])   # Prints \"2\"\n",
    "b[0, 0] = 77     # b[0, 0] is the same piece of data as a[0, 1]\n",
    "print(a[0, 1])   # Prints \"77\""
   ],
   "id": "4845cc2dda01f3ce",
   "outputs": [
    {
     "name": "stdout",
     "output_type": "stream",
     "text": [
      "2\n",
      "77\n"
     ]
    }
   ],
   "execution_count": 12
  },
  {
   "metadata": {},
   "cell_type": "markdown",
   "source": "## for blockworld",
   "id": "fafea070a3cf2710"
  },
  {
   "metadata": {},
   "cell_type": "code",
   "outputs": [],
   "execution_count": null,
   "source": "",
   "id": "c81e439aa2d0fab0"
  },
  {
   "metadata": {
    "ExecuteTime": {
     "end_time": "2024-09-19T22:00:34.007970Z",
     "start_time": "2024-09-19T22:00:34.001998Z"
    }
   },
   "cell_type": "code",
   "source": [
    "import numpy as np\n",
    "\n",
    "# Create a 2D list of letters\n",
    "letters_2d = [['a', 'b', 'c'], ['d', 'e', 'f']]\n",
    "\n",
    "# Create a NumPy array from the 2D list\n",
    "letters_2d_array = np.array(letters_2d)\n",
    "\n",
    "print(letters_2d_array)"
   ],
   "id": "c765646c8b1798ea",
   "outputs": [
    {
     "name": "stdout",
     "output_type": "stream",
     "text": [
      "[['a' 'b' 'c']\n",
      " ['d' 'e' 'f']]\n"
     ]
    }
   ],
   "execution_count": 5
  },
  {
   "metadata": {},
   "cell_type": "markdown",
   "source": "#### lets append onto this aray",
   "id": "d2b8a8eb2f4f9a8f"
  },
  {
   "metadata": {
    "ExecuteTime": {
     "end_time": "2024-09-19T22:14:17.985179Z",
     "start_time": "2024-09-19T22:14:17.981245Z"
    }
   },
   "cell_type": "code",
   "source": [
    "letters_2d = [['a', 'b', 'c'], ['d', 'e', 'f']]\n",
    "\n",
    "letters_2d.append(['v'])\n",
    "print(letters_2d)\n",
    "print(len(letters_2d))\n",
    "print(len(letters_2d[1]))\n",
    "print(letters_2d[0][2])"
   ],
   "id": "6474164385fa7e9",
   "outputs": [
    {
     "name": "stdout",
     "output_type": "stream",
     "text": [
      "[['a', 'b', 'c'], ['d', 'e', 'f'], ['v']]\n",
      "3\n",
      "3\n",
      "c\n"
     ]
    }
   ],
   "execution_count": 14
  },
  {
   "metadata": {
    "ExecuteTime": {
     "end_time": "2024-09-19T22:30:31.661538Z",
     "start_time": "2024-09-19T22:30:31.658034Z"
    }
   },
   "cell_type": "code",
   "source": [
    "# quick check \n",
    "\n",
    "node1 = table_state=[[1, 2], [3, 4]]\n",
    "node2 = table_state=[[3, 4], [1, 2]]\n",
    "\n",
    "print(node1 == node2)"
   ],
   "id": "4ccf28ace52abb20",
   "outputs": [
    {
     "name": "stdout",
     "output_type": "stream",
     "text": [
      "False\n"
     ]
    }
   ],
   "execution_count": 15
  },
  {
   "metadata": {},
   "cell_type": "code",
   "outputs": [],
   "execution_count": null,
   "source": [
    "# lets check the union of each sub list, so grab the first sublist, then check against each sublist in the second one. take the lowest value for each sublist loop. then do the same for the next sublist in the initial. \n",
    "# may need to exclude any with len(1) from this calculation"
   ],
   "id": "c5e957d9d7e3ea61"
  },
  {
   "metadata": {},
   "cell_type": "markdown",
   "source": "### ok lets declare all of the states from our network\n",
   "id": "4dd181b66f33d545"
  },
  {
   "metadata": {
    "ExecuteTime": {
     "end_time": "2024-09-20T20:41:20.295252Z",
     "start_time": "2024-09-20T20:41:20.286736Z"
    }
   },
   "cell_type": "code",
   "source": [
    "initial = [[\"A\", \"B\", \"C\"], [\"D\", \"E\"]]\n",
    "goal = [[\"A\", \"C\"], [\"D\", \"E\", \"B\"]]\n",
    "state_1_1 = [[\"A\", \"B\"], [\"D\", \"E\", \"C\"]]\n",
    "state_1_2 = [[\"A\", \"B\"], [\"D\", \"E\"], [\"C\"]]\n",
    "state_2_1 = [[\"A\"],[\"D\",\"E\",\"B\"],[\"C\"]]\n",
    "\n",
    "state_test1 = [[\"D\",\"E\",\"B\"],[\"C\",\"A\"]]\n",
    "state_test2 = [[\"A\",\"C\"],[\"D\",\"E\",\"B\"]]\n",
    "\n",
    "#TODO: this is a problematic state, need to fix it\n",
    "test_when_under = [[\"D\",\"C\"],[\"A\",\"E\",\"B\"]]\n"
   ],
   "id": "768831a57ff2b4ce",
   "outputs": [],
   "execution_count": 17
  },
  {
   "metadata": {
    "ExecuteTime": {
     "end_time": "2024-09-20T20:54:00.787765Z",
     "start_time": "2024-09-20T20:54:00.777973Z"
    }
   },
   "cell_type": "code",
   "source": [
    "def calculate_similarity(initial, goal):\n",
    "    total_similarity = 0\n",
    "    matched_elements = set()  # To track elements already matched\n",
    "\n",
    "    # Loop through each sublist in the initial state\n",
    "    for init_sublist in initial:\n",
    "        init_set = set(init_sublist)\n",
    "        max_similarity = 0\n",
    "        \n",
    "        # Compare the sublist to each sublist in the goal state\n",
    "        for goal_sublist in goal:\n",
    "            goal_set = set(goal_sublist)\n",
    "\n",
    "            # Check how many elements are in the same position\n",
    "            similarity = sum(1 for i, el in enumerate(init_sublist) \n",
    "                             if i < len(goal_sublist) and el == goal_sublist[i])\n",
    "            \n",
    "            # If the sublist in goal has just one element, don't penalize movement\n",
    "            if len(goal_sublist) == 1 and list(goal_sublist)[0] in init_set:\n",
    "                similarity = len(goal_sublist)  # No penalty for single-element sublists\n",
    "\n",
    "            # Track the maximum similarity for the current sublist\n",
    "            max_similarity = max(max_similarity, similarity)\n",
    "        \n",
    "        # Add the maximum similarity for this sublist to the total\n",
    "        total_similarity += max_similarity\n",
    "        matched_elements.update(init_set)\n",
    "\n",
    "    return total_similarity\n",
    "\n",
    "\n",
    "initial_similarity = calculate_similarity(initial, goal)\n",
    "state_1_1_similarity = calculate_similarity(state_1_1, goal)\n",
    "state_1_2_similarity = calculate_similarity(state_1_2, goal)\n",
    "\n",
    "\n",
    "print(\"Similarity score for initial state:\", initial_similarity)\n",
    "print(\"Similarity score for state 1_1:\", state_1_1_similarity)\n",
    "print(\"Similarity score for state 1_2:\", state_1_2_similarity)\n",
    "print(\"Similarly score for state 2_1:\", calculate_similarity(state_2_1, goal))\n",
    "print(\"Similarly score for state test 1:\", calculate_similarity(state_test1, goal))\n",
    "print(\"Similarly score for state test 2:\", calculate_similarity(state_test2, goal))\n",
    "#TODO: this should be 0\n",
    "print(\"Similarly score for state 2_1:\", calculate_similarity(test_when_under, goal))\n"
   ],
   "id": "403f0989c9ef596e",
   "outputs": [
    {
     "name": "stdout",
     "output_type": "stream",
     "text": [
      "Similarity score for initial state: 3\n",
      "Similarity score for state 1_1: 3\n",
      "Similarity score for state 1_2: 3\n",
      "Similarly score for state 2_1: 4\n",
      "Similarly score for state test 1: 3\n",
      "Similarly score for state test 2: 5\n",
      "Similarly score for state 2_1: 3\n"
     ]
    }
   ],
   "execution_count": 22
  },
  {
   "metadata": {
    "ExecuteTime": {
     "end_time": "2024-09-20T21:13:38.020427Z",
     "start_time": "2024-09-20T21:13:38.012924Z"
    }
   },
   "cell_type": "code",
   "source": [
    "def calculate_similarity(initial, goal):\n",
    "    total_similarity = 0\n",
    "    \n",
    "    # Loop through each sublist in the initial state\n",
    "    for init_sublist in initial:\n",
    "        max_similarity = 0\n",
    "        \n",
    "        # Compare the sublist to each sublist in the goal state\n",
    "        for goal_sublist in goal:\n",
    "            similarity = 0\n",
    "            \n",
    "            # Compare elements in position until a mismatch is found\n",
    "            for i, el in enumerate(init_sublist):\n",
    "                if i >= len(goal_sublist) or el != goal_sublist[i]:\n",
    "                    break  # Stop when we find the first mismatch\n",
    "                similarity += 1  # Add to similarity for matching elements\n",
    "        \n",
    "            max_similarity = max_similarity if max_similarity > similarity else similarity\n",
    "        \n",
    "        # Add the maximum similarity for this sublist to the total\n",
    "        total_similarity += max_similarity\n",
    "\n",
    "    return total_similarity\n",
    "\n",
    "print(\"Similarity score for initial state:\", initial_similarity)\n",
    "print(\"Similarity score for state 1_1:\", state_1_1_similarity)\n",
    "print(\"Similarity score for state 1_2:\", state_1_2_similarity)\n",
    "print(\"Similarly score for state 2_1:\", calculate_similarity(state_2_1, goal))\n",
    "print(\"Similarly score for state 2_1:\", calculate_similarity(state_test1, goal))\n",
    "print(\"Similarly score for state 2_1:\", calculate_similarity(state_test2, goal))\n",
    "#TODO: this should be 2\n",
    "print(\"Similarly score for state 2_1:\", calculate_similarity(test_when_under, goal))"
   ],
   "id": "9c20a3474316a30d",
   "outputs": [
    {
     "name": "stdout",
     "output_type": "stream",
     "text": [
      "Similarity score for initial state: 3\n",
      "Similarity score for state 1_1: 3\n",
      "Similarity score for state 1_2: 3\n",
      "Similarly score for state 2_1: 4\n",
      "Similarly score for state 2_1: 3\n",
      "Similarly score for state 2_1: 5\n",
      "Similarly score for state 2_1: 2\n"
     ]
    }
   ],
   "execution_count": 23
  },
  {
   "metadata": {},
   "cell_type": "markdown",
   "source": [
    "-----\n",
    "#### ok, lets check the tree functions"
   ],
   "id": "89324d382576858b"
  },
  {
   "metadata": {
    "ExecuteTime": {
     "end_time": "2024-09-21T21:02:09.482445Z",
     "start_time": "2024-09-21T21:02:09.474811Z"
    }
   },
   "cell_type": "code",
   "source": [
    "for index, item in enumerate(goal):\n",
    "    print(f\"Index: {index}, Item: {item}\")\n",
    "\n",
    "print(sum(len(sublist) for sublist in goal))\n",
    "\n",
    "print(goal)\n",
    "print(goal[1][-1])"
   ],
   "id": "25e3fc0f6c1d988a",
   "outputs": [
    {
     "name": "stdout",
     "output_type": "stream",
     "text": [
      "Index: 0, Item: ['A', 'C']\n",
      "Index: 1, Item: ['D', 'E', 'B']\n",
      "5\n",
      "[['A', 'C'], ['D', 'E', 'B']]\n",
      "B\n"
     ]
    }
   ],
   "execution_count": 35
  },
  {
   "metadata": {},
   "cell_type": "markdown",
   "source": "#### bfs ",
   "id": "b0491f14ddcc205e"
  },
  {
   "metadata": {
    "ExecuteTime": {
     "end_time": "2024-09-21T20:43:55.781158Z",
     "start_time": "2024-09-21T20:43:55.756115Z"
    }
   },
   "cell_type": "code",
   "source": [
    "graph = {\n",
    "  '5' : ['3','7'],\n",
    "  '3' : ['2', '4'],\n",
    "  '7' : ['8'],\n",
    "  '2' : [],\n",
    "  '4' : ['8'],\n",
    "  '8' : []\n",
    "}\n",
    "\n",
    "visited = [] # List for visited nodes.\n",
    "queue = []     #Initialize a queue\n",
    "\n",
    "def bfs(visited, graph, node): #function for BFS\n",
    "  visited.append(node)\n",
    "  queue.append(node)\n",
    "\n",
    "  while queue:          # Creating loop to visit each node\n",
    "    m = queue.pop(0) \n",
    "    print (m, end = \" \") \n",
    "\n",
    "    for neighbour in graph[m]:\n",
    "      if neighbour not in visited:\n",
    "        visited.append(neighbour)\n",
    "        queue.append(neighbour)\n",
    "\n",
    "# Driver Code\n",
    "print(\"Following is the Breadth-First Search\")\n",
    "bfs(visited, graph, '5')    # function calling"
   ],
   "id": "38c206c0ae654ccb",
   "outputs": [
    {
     "name": "stdout",
     "output_type": "stream",
     "text": [
      "Following is the Breadth-First Search\n",
      "5 3 7 2 4 8 "
     ]
    }
   ],
   "execution_count": 32
  },
  {
   "metadata": {},
   "cell_type": "markdown",
   "source": [
    "--------------------------------------------------------------------------------------------\n",
    "\n",
    "\n",
    "\n",
    "\n",
    "\n",
    "## Lets test opencv in this block"
   ],
   "id": "955dbc7e3d9c6ebd"
  },
  {
   "metadata": {
    "ExecuteTime": {
     "end_time": "2024-09-18T22:40:22.857982Z",
     "start_time": "2024-09-18T22:40:21.581097Z"
    }
   },
   "cell_type": "code",
   "source": [
    "# https://docs.opencv.org/4.x/d6/d00/tutorial_py_root.html\n",
    "import cv2 as cv"
   ],
   "id": "3bb008c79db90ccb",
   "outputs": [],
   "execution_count": 1
  },
  {
   "metadata": {
    "ExecuteTime": {
     "end_time": "2024-09-18T22:40:22.925284Z",
     "start_time": "2024-09-18T22:40:22.886008Z"
    }
   },
   "cell_type": "code",
   "source": [
    "image = cv.imread(\"Scratches/images/danny.webp\")\n",
    "# cv.imshow(\"Display window\",img)\n"
   ],
   "id": "32fc5ccaf9ad3adb",
   "outputs": [],
   "execution_count": 2
  },
  {
   "metadata": {
    "ExecuteTime": {
     "end_time": "2024-09-18T22:40:36.340037Z",
     "start_time": "2024-09-18T22:40:34.646078Z"
    }
   },
   "cell_type": "code",
   "source": [
    "if image is None:\n",
    "    print(\"Error: Could not open or find the image.\")\n",
    "else:\n",
    "    # Step 2: Display the image in a window\n",
    "    cv.imshow('Image Window', image)\n",
    "\n",
    "    # Step 3: Wait for a key event\n",
    "    cv.waitKey(0)\n",
    "\n",
    "    # Step 4: Close all OpenCV windows\n",
    "    cv.destroyAllWindows()"
   ],
   "id": "ed76d17b2ad542b4",
   "outputs": [],
   "execution_count": 4
  },
  {
   "metadata": {},
   "cell_type": "markdown",
   "source": "### filters",
   "id": "25516b6642235c5b"
  },
  {
   "metadata": {
    "ExecuteTime": {
     "end_time": "2024-09-12T03:56:17.008396Z",
     "start_time": "2024-09-12T03:56:16.983492Z"
    }
   },
   "cell_type": "code",
   "source": "image = cv.imread_color(\"Scratches/images/danny.webp\")",
   "id": "5afe8d62eab8383e",
   "outputs": [
    {
     "ename": "AttributeError",
     "evalue": "module 'cv2' has no attribute 'imread_color'",
     "output_type": "error",
     "traceback": [
      "\u001B[1;31m---------------------------------------------------------------------------\u001B[0m",
      "\u001B[1;31mAttributeError\u001B[0m                            Traceback (most recent call last)",
      "Cell \u001B[1;32mIn[20], line 1\u001B[0m\n\u001B[1;32m----> 1\u001B[0m image \u001B[38;5;241m=\u001B[39m \u001B[43mcv\u001B[49m\u001B[38;5;241;43m.\u001B[39;49m\u001B[43mimread_color\u001B[49m(\u001B[38;5;124m\"\u001B[39m\u001B[38;5;124mScratches/images/danny.webp\u001B[39m\u001B[38;5;124m\"\u001B[39m)\n",
      "\u001B[1;31mAttributeError\u001B[0m: module 'cv2' has no attribute 'imread_color'"
     ]
    }
   ],
   "execution_count": 20
  },
  {
   "metadata": {},
   "cell_type": "code",
   "outputs": [],
   "execution_count": null,
   "source": "    ",
   "id": "77f8b23ff4293065"
  },
  {
   "metadata": {},
   "cell_type": "markdown",
   "source": "## Here we are just going to have some scraps not related to numpy",
   "id": "e1fcd77518690e57"
  },
  {
   "metadata": {
    "ExecuteTime": {
     "end_time": "2024-09-07T14:36:04.946104Z",
     "start_time": "2024-09-07T14:36:04.941779Z"
    }
   },
   "cell_type": "code",
   "source": [
    "action_case = {\n",
    "    '1': 'a',\n",
    "    '2': 'b',\n",
    "    '3': 'c',\n",
    "}\n",
    "\n",
    "for action_index in action_case:\n",
    "    action = action_case.get(print(action_case[action_index]))"
   ],
   "id": "11177cc2d8b801e3",
   "outputs": [
    {
     "name": "stdout",
     "output_type": "stream",
     "text": [
      "a\n",
      "b\n",
      "c\n"
     ]
    }
   ],
   "execution_count": 10
  },
  {
   "metadata": {
    "ExecuteTime": {
     "end_time": "2024-09-21T19:46:51.808840Z",
     "start_time": "2024-09-21T19:46:51.803273Z"
    }
   },
   "cell_type": "code",
   "source": [
    "parent_node = [['A'], ['D', 'E', 'B'], ['C']]\n",
    "sub_node = [[], ['D', 'E', 'B'], ['C'], ['A']]\n",
    "sorted_self = sorted([sorted(sublist) for sublist in parent_node])\n",
    "sorted_other = sorted([sorted(sublist) for sublist in sub_node])\n",
    "print(sorted_self == sorted_other)"
   ],
   "id": "f8d2e3956e9cc9a",
   "outputs": [
    {
     "name": "stdout",
     "output_type": "stream",
     "text": [
      "False\n"
     ]
    }
   ],
   "execution_count": 31
  },
  {
   "metadata": {
    "ExecuteTime": {
     "end_time": "2024-09-21T19:46:01.809365Z",
     "start_time": "2024-09-21T19:46:01.806856Z"
    }
   },
   "cell_type": "code",
   "source": "",
   "id": "2f4c0461e99f9b14",
   "outputs": [],
   "execution_count": null
  },
  {
   "metadata": {},
   "cell_type": "code",
   "outputs": [],
   "execution_count": null,
   "source": "",
   "id": "c54e23d9d1eeb64b"
  }
 ],
 "metadata": {
  "kernelspec": {
   "display_name": "Python 3",
   "language": "python",
   "name": "python3"
  },
  "language_info": {
   "codemirror_mode": {
    "name": "ipython",
    "version": 2
   },
   "file_extension": ".py",
   "mimetype": "text/x-python",
   "name": "python",
   "nbconvert_exporter": "python",
   "pygments_lexer": "ipython2",
   "version": "2.7.6"
  }
 },
 "nbformat": 4,
 "nbformat_minor": 5
}
