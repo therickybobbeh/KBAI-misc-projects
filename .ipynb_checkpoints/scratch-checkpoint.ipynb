{
 "cells": [
  {
   "metadata": {},
   "cell_type": "markdown",
   "source": "### numpy scraps",
   "id": "a2ca6cad5f989417"
  },
  {
   "metadata": {
    "ExecuteTime": {
     "end_time": "2024-09-05T01:02:19.467322Z",
     "start_time": "2024-09-05T01:02:19.377265Z"
    }
   },
   "cell_type": "code",
   "outputs": [],
   "execution_count": 1,
   "source": "import numpy as np",
   "id": "518af34aed4d53a6"
  },
  {
   "metadata": {
    "collapsed": true,
    "ExecuteTime": {
     "end_time": "2024-09-05T01:02:21.207845Z",
     "start_time": "2024-09-05T01:02:21.202173Z"
    }
   },
   "cell_type": "code",
   "source": "zero_arr = np.zeros(12)",
   "id": "initial_id",
   "outputs": [],
   "execution_count": 2
  },
  {
   "metadata": {
    "ExecuteTime": {
     "end_time": "2024-09-05T01:02:23.602795Z",
     "start_time": "2024-09-05T01:02:23.598945Z"
    }
   },
   "cell_type": "code",
   "source": "print(zero_arr)",
   "id": "98b30f32552d2e83",
   "outputs": [
    {
     "name": "stdout",
     "output_type": "stream",
     "text": [
      "[0. 0. 0. 0. 0. 0. 0. 0. 0. 0. 0. 0.]\n"
     ]
    }
   ],
   "execution_count": 3
  },
  {
   "metadata": {
    "ExecuteTime": {
     "end_time": "2024-09-07T14:36:18.687648Z",
     "start_time": "2024-09-07T14:36:18.680367Z"
    }
   },
   "cell_type": "code",
   "source": "zero_arr.mean()",
   "id": "60332a4332d7d223",
   "outputs": [
    {
     "data": {
      "text/plain": [
       "np.float64(0.0)"
      ]
     },
     "execution_count": 11,
     "metadata": {},
     "output_type": "execute_result"
    }
   ],
   "execution_count": 11
  },
  {
   "metadata": {},
   "cell_type": "code",
   "outputs": [],
   "execution_count": null,
   "source": "np.matrix()",
   "id": "c765646c8b1798ea"
  },
  {
   "metadata": {},
   "cell_type": "markdown",
   "source": "### Lets test opencv in this block",
   "id": "955dbc7e3d9c6ebd"
  },
  {
   "metadata": {
    "ExecuteTime": {
     "end_time": "2024-09-11T22:37:14.390668Z",
     "start_time": "2024-09-11T22:37:14.161967Z"
    }
   },
   "cell_type": "code",
   "source": "import opencv as cv",
   "id": "3bb008c79db90ccb",
   "outputs": [
    {
     "ename": "ModuleNotFoundError",
     "evalue": "No module named 'opencv'",
     "output_type": "error",
     "traceback": [
      "\u001B[1;31m---------------------------------------------------------------------------\u001B[0m",
      "\u001B[1;31mModuleNotFoundError\u001B[0m                       Traceback (most recent call last)",
      "Cell \u001B[1;32mIn[1], line 1\u001B[0m\n\u001B[1;32m----> 1\u001B[0m \u001B[38;5;28;01mimport\u001B[39;00m \u001B[38;5;21;01mopencv\u001B[39;00m \u001B[38;5;28;01mas\u001B[39;00m \u001B[38;5;21;01mcv\u001B[39;00m\n",
      "\u001B[1;31mModuleNotFoundError\u001B[0m: No module named 'opencv'"
     ]
    }
   ],
   "execution_count": 1
  },
  {
   "metadata": {},
   "cell_type": "code",
   "outputs": [],
   "execution_count": null,
   "source": "",
   "id": "32fc5ccaf9ad3adb"
  },
  {
   "metadata": {},
   "cell_type": "markdown",
   "source": "### Here we are just going to have some scraps not related to numpy",
   "id": "e1fcd77518690e57"
  },
  {
   "metadata": {
    "ExecuteTime": {
     "end_time": "2024-09-07T14:36:04.946104Z",
     "start_time": "2024-09-07T14:36:04.941779Z"
    }
   },
   "cell_type": "code",
   "source": [
    "action_case = {\n",
    "    '1': 'a',\n",
    "    '2': 'b',\n",
    "    '3': 'c',\n",
    "}\n",
    "\n",
    "for action_index in action_case:\n",
    "    action = action_case.get(print(action_case[action_index]))"
   ],
   "id": "11177cc2d8b801e3",
   "outputs": [
    {
     "name": "stdout",
     "output_type": "stream",
     "text": [
      "a\n",
      "b\n",
      "c\n"
     ]
    }
   ],
   "execution_count": 10
  },
  {
   "metadata": {
    "ExecuteTime": {
     "end_time": "2024-09-08T22:13:43.875761Z",
     "start_time": "2024-09-08T22:12:38.516901Z"
    }
   },
   "cell_type": "code",
   "source": [
    "class Shepherd:\n",
    "    def __init__(self):\n",
    "        # Initialize node state\n",
    "        self.node = Node()\n",
    "        self.node.actions_ran = 0  # Default to 0, can be set to start from any index\n",
    "        self.node.exhausted = False  # Indicates if all actions are exhausted\n",
    "\n",
    "    def move_1_sheep_from_left_to_right(self):\n",
    "        print(\"Moved 1 sheep from left to right\")\n",
    "\n",
    "    def move_1_sheep_from_right_to_left(self):\n",
    "        print(\"Moved 1 sheep from right to left\")\n",
    "\n",
    "    def move_1_wolf_from_left_to_right(self):\n",
    "        print(\"Moved 1 wolf from left to right\")\n",
    "\n",
    "    def move_1_wolf_from_right_to_left(self):\n",
    "        print(\"Moved 1 wolf from right to left\")\n",
    "\n",
    "    def move_2_sheep_from_left_to_right(self):\n",
    "        print(\"Moved 2 sheep from left to right\")\n",
    "\n",
    "    def move_2_sheep_from_right_to_left(self):\n",
    "        print(\"Moved 2 sheep from right to left\")\n",
    "\n",
    "    def move_2_wolves_from_left_to_right(self):\n",
    "        print(\"Moved 2 wolves from left to right\")\n",
    "\n",
    "    def move_2_wolves_from_right_to_left(self):\n",
    "        print(\"Moved 2 wolves from right to left\")\n",
    "\n",
    "    def move_1_wolf_and_1_sheep_from_left_to_right(self):\n",
    "        print(\"Moved 1 wolf and 1 sheep from left to right\")\n",
    "\n",
    "    def move_1_wolf_and_1_sheep_from_right_to_left(self):\n",
    "        print(\"Moved 1 wolf and 1 sheep from right to left\")\n",
    "\n",
    "    def run_actions(self, start_at=0) -> 'Node':\n",
    "        # Dictionary storing the actions without parentheses\n",
    "        actions_case = {\n",
    "            0: self.move_1_sheep_from_left_to_right,\n",
    "            1: self.move_1_sheep_from_right_to_left,\n",
    "            2: self.move_1_wolf_from_left_to_right,\n",
    "            3: self.move_1_wolf_from_right_to_left,\n",
    "            4: self.move_2_sheep_from_left_to_right,\n",
    "            5: self.move_2_sheep_from_right_to_left,\n",
    "            6: self.move_2_wolves_from_left_to_right,\n",
    "            7: self.move_2_wolves_from_right_to_left,\n",
    "            8: self.move_1_wolf_and_1_sheep_from_left_to_right,\n",
    "            9: self.move_1_wolf_and_1_sheep_from_right_to_left,\n",
    "        }\n",
    "\n",
    "        # Set the initial action index (start_at can be passed as an argument)\n",
    "        self.node.actions_ran = start_at\n",
    "        total_actions = len(actions_case)\n",
    "\n",
    "        # Iterate over all actions starting from start_at\n",
    "        while self.node.actions_ran < total_actions:\n",
    "            if self.node.exhausted:\n",
    "                return self.back_to_parent_node()\n",
    "\n",
    "            # Get the action function without calling it\n",
    "            action = actions_case.get(self.node.actions_ran)\n",
    "\n",
    "            # Call the action if it exists\n",
    "            if action:\n",
    "                action()  # Execute the action\n",
    "\n",
    "            # Increment the action counter after running the action\n",
    "            self.node.actions_ran += 1\n",
    "\n",
    "        # Mark node as exhausted after all actions\n",
    "        self.node.exhausted = True\n",
    "        return self.node\n",
    "\n",
    "    def back_to_parent_node(self):\n",
    "        print(\"Back to parent node\")\n",
    "        return self.node\n",
    "\n",
    "\n",
    "class Node:\n",
    "    def __init__(self):\n",
    "        self.actions_ran = 0\n",
    "        self.exhausted = False\n",
    "\n",
    "\n",
    "# Example Usage:\n",
    "shepherd = Shepherd()\n",
    "shepherd.run_actions(start_at=3)  # Start at index 3\n"
   ],
   "id": "b289023bb78f9af1",
   "outputs": [
    {
     "name": "stdout",
     "output_type": "stream",
     "text": [
      "Moved 1 wolf from right to left\n",
      "Moved 2 sheep from left to right\n",
      "Moved 2 sheep from right to left\n",
      "Moved 2 wolves from left to right\n",
      "Moved 2 wolves from right to left\n",
      "Moved 1 wolf and 1 sheep from left to right\n",
      "Moved 1 wolf and 1 sheep from right to left\n"
     ]
    },
    {
     "ename": "KeyboardInterrupt",
     "evalue": "",
     "output_type": "error",
     "traceback": [
      "\u001B[1;31m---------------------------------------------------------------------------\u001B[0m",
      "\u001B[1;31mKeyboardInterrupt\u001B[0m                         Traceback (most recent call last)",
      "Cell \u001B[1;32mIn[1], line 89\u001B[0m\n\u001B[0;32m     87\u001B[0m \u001B[38;5;66;03m# Example Usage:\u001B[39;00m\n\u001B[0;32m     88\u001B[0m shepherd \u001B[38;5;241m=\u001B[39m Shepherd()\n\u001B[1;32m---> 89\u001B[0m shepherd\u001B[38;5;241m.\u001B[39mrun_actions(start_at\u001B[38;5;241m=\u001B[39m\u001B[38;5;241m3\u001B[39m)  \u001B[38;5;66;03m# Start at index 3\u001B[39;00m\n",
      "File \u001B[1;32m~\\AppData\\Local\\Programs\\Python\\Python312\\Lib\\site-packages\\IPython\\core\\displayhook.py:274\u001B[0m, in \u001B[0;36mDisplayHook.__call__\u001B[1;34m(self, result)\u001B[0m\n\u001B[0;32m    272\u001B[0m     \u001B[38;5;28mself\u001B[39m\u001B[38;5;241m.\u001B[39mwrite_format_data(format_dict, md_dict)\n\u001B[0;32m    273\u001B[0m     \u001B[38;5;28mself\u001B[39m\u001B[38;5;241m.\u001B[39mlog_output(format_dict)\n\u001B[1;32m--> 274\u001B[0m \u001B[38;5;28;43mself\u001B[39;49m\u001B[38;5;241;43m.\u001B[39;49m\u001B[43mfinish_displayhook\u001B[49m\u001B[43m(\u001B[49m\u001B[43m)\u001B[49m\n",
      "File \u001B[1;32m~\\AppData\\Local\\Programs\\Python\\Python312\\Lib\\site-packages\\ipykernel\\displayhook.py:97\u001B[0m, in \u001B[0;36mZMQShellDisplayHook.finish_displayhook\u001B[1;34m(self)\u001B[0m\n\u001B[0;32m     95\u001B[0m \u001B[38;5;28;01mdef\u001B[39;00m \u001B[38;5;21mfinish_displayhook\u001B[39m(\u001B[38;5;28mself\u001B[39m):\n\u001B[0;32m     96\u001B[0m \u001B[38;5;250m    \u001B[39m\u001B[38;5;124;03m\"\"\"Finish up all displayhook activities.\"\"\"\u001B[39;00m\n\u001B[1;32m---> 97\u001B[0m     \u001B[43msys\u001B[49m\u001B[38;5;241;43m.\u001B[39;49m\u001B[43mstdout\u001B[49m\u001B[38;5;241;43m.\u001B[39;49m\u001B[43mflush\u001B[49m\u001B[43m(\u001B[49m\u001B[43m)\u001B[49m\n\u001B[0;32m     98\u001B[0m     sys\u001B[38;5;241m.\u001B[39mstderr\u001B[38;5;241m.\u001B[39mflush()\n\u001B[0;32m     99\u001B[0m     \u001B[38;5;28;01mif\u001B[39;00m \u001B[38;5;28mself\u001B[39m\u001B[38;5;241m.\u001B[39mmsg \u001B[38;5;129;01mand\u001B[39;00m \u001B[38;5;28mself\u001B[39m\u001B[38;5;241m.\u001B[39mmsg[\u001B[38;5;124m\"\u001B[39m\u001B[38;5;124mcontent\u001B[39m\u001B[38;5;124m\"\u001B[39m][\u001B[38;5;124m\"\u001B[39m\u001B[38;5;124mdata\u001B[39m\u001B[38;5;124m\"\u001B[39m] \u001B[38;5;129;01mand\u001B[39;00m \u001B[38;5;28mself\u001B[39m\u001B[38;5;241m.\u001B[39msession:\n",
      "File \u001B[1;32m~\\AppData\\Local\\Programs\\Python\\Python312\\Lib\\site-packages\\ipykernel\\iostream.py:604\u001B[0m, in \u001B[0;36mOutStream.flush\u001B[1;34m(self)\u001B[0m\n\u001B[0;32m    593\u001B[0m \u001B[38;5;250m\u001B[39m\u001B[38;5;124;03m\"\"\"trigger actual zmq send\u001B[39;00m\n\u001B[0;32m    594\u001B[0m \n\u001B[0;32m    595\u001B[0m \u001B[38;5;124;03msend will happen in the background thread\u001B[39;00m\n\u001B[0;32m    596\u001B[0m \u001B[38;5;124;03m\"\"\"\u001B[39;00m\n\u001B[0;32m    597\u001B[0m \u001B[38;5;28;01mif\u001B[39;00m (\n\u001B[0;32m    598\u001B[0m     \u001B[38;5;28mself\u001B[39m\u001B[38;5;241m.\u001B[39mpub_thread\n\u001B[0;32m    599\u001B[0m     \u001B[38;5;129;01mand\u001B[39;00m \u001B[38;5;28mself\u001B[39m\u001B[38;5;241m.\u001B[39mpub_thread\u001B[38;5;241m.\u001B[39mthread \u001B[38;5;129;01mis\u001B[39;00m \u001B[38;5;129;01mnot\u001B[39;00m \u001B[38;5;28;01mNone\u001B[39;00m\n\u001B[1;32m   (...)\u001B[0m\n\u001B[0;32m    602\u001B[0m ):\n\u001B[0;32m    603\u001B[0m     \u001B[38;5;66;03m# request flush on the background thread\u001B[39;00m\n\u001B[1;32m--> 604\u001B[0m     \u001B[38;5;28;43mself\u001B[39;49m\u001B[38;5;241;43m.\u001B[39;49m\u001B[43mpub_thread\u001B[49m\u001B[38;5;241;43m.\u001B[39;49m\u001B[43mschedule\u001B[49m\u001B[43m(\u001B[49m\u001B[38;5;28;43mself\u001B[39;49m\u001B[38;5;241;43m.\u001B[39;49m\u001B[43m_flush\u001B[49m\u001B[43m)\u001B[49m\n\u001B[0;32m    605\u001B[0m     \u001B[38;5;66;03m# wait for flush to actually get through, if we can.\u001B[39;00m\n\u001B[0;32m    606\u001B[0m     evt \u001B[38;5;241m=\u001B[39m threading\u001B[38;5;241m.\u001B[39mEvent()\n",
      "File \u001B[1;32m~\\AppData\\Local\\Programs\\Python\\Python312\\Lib\\site-packages\\ipykernel\\iostream.py:267\u001B[0m, in \u001B[0;36mIOPubThread.schedule\u001B[1;34m(self, f)\u001B[0m\n\u001B[0;32m    265\u001B[0m     \u001B[38;5;28mself\u001B[39m\u001B[38;5;241m.\u001B[39m_events\u001B[38;5;241m.\u001B[39mappend(f)\n\u001B[0;32m    266\u001B[0m     \u001B[38;5;66;03m# wake event thread (message content is ignored)\u001B[39;00m\n\u001B[1;32m--> 267\u001B[0m     \u001B[38;5;28;43mself\u001B[39;49m\u001B[38;5;241;43m.\u001B[39;49m\u001B[43m_event_pipe\u001B[49m\u001B[38;5;241;43m.\u001B[39;49m\u001B[43msend\u001B[49m\u001B[43m(\u001B[49m\u001B[38;5;124;43mb\u001B[39;49m\u001B[38;5;124;43m\"\u001B[39;49m\u001B[38;5;124;43m\"\u001B[39;49m\u001B[43m)\u001B[49m\n\u001B[0;32m    268\u001B[0m \u001B[38;5;28;01melse\u001B[39;00m:\n\u001B[0;32m    269\u001B[0m     f()\n",
      "File \u001B[1;32m~\\AppData\\Local\\Programs\\Python\\Python312\\Lib\\site-packages\\zmq\\sugar\\socket.py:701\u001B[0m, in \u001B[0;36mSocket.send\u001B[1;34m(self, data, flags, copy, track, routing_id, group)\u001B[0m\n\u001B[0;32m    694\u001B[0m         data \u001B[38;5;241m=\u001B[39m zmq\u001B[38;5;241m.\u001B[39mFrame(\n\u001B[0;32m    695\u001B[0m             data,\n\u001B[0;32m    696\u001B[0m             track\u001B[38;5;241m=\u001B[39mtrack,\n\u001B[0;32m    697\u001B[0m             copy\u001B[38;5;241m=\u001B[39mcopy \u001B[38;5;129;01mor\u001B[39;00m \u001B[38;5;28;01mNone\u001B[39;00m,\n\u001B[0;32m    698\u001B[0m             copy_threshold\u001B[38;5;241m=\u001B[39m\u001B[38;5;28mself\u001B[39m\u001B[38;5;241m.\u001B[39mcopy_threshold,\n\u001B[0;32m    699\u001B[0m         )\n\u001B[0;32m    700\u001B[0m     data\u001B[38;5;241m.\u001B[39mgroup \u001B[38;5;241m=\u001B[39m group\n\u001B[1;32m--> 701\u001B[0m \u001B[38;5;28;01mreturn\u001B[39;00m \u001B[38;5;28;43msuper\u001B[39;49m\u001B[43m(\u001B[49m\u001B[43m)\u001B[49m\u001B[38;5;241;43m.\u001B[39;49m\u001B[43msend\u001B[49m\u001B[43m(\u001B[49m\u001B[43mdata\u001B[49m\u001B[43m,\u001B[49m\u001B[43m \u001B[49m\u001B[43mflags\u001B[49m\u001B[38;5;241;43m=\u001B[39;49m\u001B[43mflags\u001B[49m\u001B[43m,\u001B[49m\u001B[43m \u001B[49m\u001B[43mcopy\u001B[49m\u001B[38;5;241;43m=\u001B[39;49m\u001B[43mcopy\u001B[49m\u001B[43m,\u001B[49m\u001B[43m \u001B[49m\u001B[43mtrack\u001B[49m\u001B[38;5;241;43m=\u001B[39;49m\u001B[43mtrack\u001B[49m\u001B[43m)\u001B[49m\n",
      "File \u001B[1;32m_zmq.py:1092\u001B[0m, in \u001B[0;36mzmq.backend.cython._zmq.Socket.send\u001B[1;34m()\u001B[0m\n",
      "File \u001B[1;32m_zmq.py:1140\u001B[0m, in \u001B[0;36mzmq.backend.cython._zmq.Socket.send\u001B[1;34m()\u001B[0m\n",
      "File \u001B[1;32m_zmq.py:1339\u001B[0m, in \u001B[0;36mzmq.backend.cython._zmq._send_copy\u001B[1;34m()\u001B[0m\n",
      "File \u001B[1;32m_zmq.py:160\u001B[0m, in \u001B[0;36mzmq.backend.cython._zmq._check_rc\u001B[1;34m()\u001B[0m\n",
      "\u001B[1;31mKeyboardInterrupt\u001B[0m: "
     ]
    }
   ],
   "execution_count": 1
  },
  {
   "metadata": {
    "ExecuteTime": {
     "end_time": "2024-09-09T01:50:59.721598Z",
     "start_time": "2024-09-09T01:50:59.711957Z"
    }
   },
   "cell_type": "code",
   "source": [
    "def detect_pattern(patterns, current_pattern, length):\n",
    "    \"\"\"\n",
    "    Detects if a certain pattern (current_pattern) of a given length exists in the list of patterns.\n",
    "    \n",
    "    :param patterns: List of tuples to search within.\n",
    "    :param current_pattern: The pattern (sublist of tuples) to search for.\n",
    "    :param length: The length of the pattern you're looking for.\n",
    "    :return: True if the pattern is found, otherwise False.\n",
    "    \"\"\"\n",
    "    # Loop through the list, checking for the pattern of the given length\n",
    "    for i in range(len(patterns) - length + 1):\n",
    "        if patterns[i:i + length] == current_pattern:\n",
    "            return True\n",
    "    return False\n",
    "\n",
    "\n",
    "# Example usage:\n",
    "patterns = [(0, 0), (0, 2), (0, 0), (2, 1), (1, 1), (2, 1), (1, 2), (1, 1), (1, 1), (0, 0), \n",
    "            (1, 1), (1, 2), (0, 2), (1, 2), (0, 0), (2, 0), (2, 0), (2, 0), (0, 2), (1, 2),\n",
    "            (2, 1), (1, 2), (2, 0), (0, 0), (2, 0), (1, 2), (0, 0), (1, 2), (0, 2), (1, 2),\n",
    "            (1, 2), (1, 1), (1, 1), (1, 1), (1, 2), (0, 0), (1, 2), (0, 0), (1, 2), (2, 1),\n",
    "            (2, 1), (1, 2), (2, 1), (1, 2), (0, 0), (2, 1), (0, 0), (1, 2), (0, 2), (0, 2)]\n",
    "\n",
    "# Looking for a pattern (1,2), (0,2), (1,2) of length 3\n",
    "current_pattern = [(1, 2), (0, 2), (1, 2)]\n",
    "result = detect_pattern(patterns, current_pattern, len(current_pattern))\n",
    "print(f\"Pattern found: {result}\")"
   ],
   "id": "cb88d6b015462204",
   "outputs": [
    {
     "name": "stdout",
     "output_type": "stream",
     "text": [
      "Pattern found: True\n"
     ]
    }
   ],
   "execution_count": 3
  },
  {
   "metadata": {
    "ExecuteTime": {
     "end_time": "2024-09-09T01:52:06.297611Z",
     "start_time": "2024-09-09T01:52:06.293069Z"
    }
   },
   "cell_type": "code",
   "source": [
    "for i in range(len(patterns) - length + 1):\n",
    "    if patterns[i:i + length] == current_pattern:\n",
    "        return True"
   ],
   "id": "9bf42024253d41eb",
   "outputs": [
    {
     "name": "stdout",
     "output_type": "stream",
     "text": [
      "[(0, 0), (0, 2), (0, 0), (2, 1), (1, 1), (2, 1), (1, 2), (1, 1), (1, 1), (0, 0), (1, 1), (1, 2), (0, 2), (1, 2), (0, 0), (2, 0), (2, 0), (2, 0), (0, 2), (1, 2), (2, 1), (1, 2), (2, 0), (0, 0), (2, 0), (1, 2), (0, 0), (1, 2), (0, 2), (1, 2), (1, 2), (1, 1), (1, 1), (1, 1), (1, 2), (0, 0), (1, 2), (0, 0), (1, 2), (2, 1), (2, 1), (1, 2), (2, 1), (1, 2), (0, 0), (2, 1), (0, 0), (1, 2), (0, 2), (0, 2)]\n"
     ]
    }
   ],
   "execution_count": 5
  },
  {
   "metadata": {},
   "cell_type": "code",
   "outputs": [],
   "execution_count": null,
   "source": "",
   "id": "f8d2e3956e9cc9a"
  }
 ],
 "metadata": {
  "kernelspec": {
   "display_name": "Python 3",
   "language": "python",
   "name": "python3"
  },
  "language_info": {
   "codemirror_mode": {
    "name": "ipython",
    "version": 2
   },
   "file_extension": ".py",
   "mimetype": "text/x-python",
   "name": "python",
   "nbconvert_exporter": "python",
   "pygments_lexer": "ipython2",
   "version": "2.7.6"
  }
 },
 "nbformat": 4,
 "nbformat_minor": 5
}
